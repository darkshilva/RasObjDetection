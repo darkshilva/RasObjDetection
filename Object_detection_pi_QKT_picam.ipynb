{
 "cells": [
  {
   "cell_type": "code",
   "execution_count": 170,
   "metadata": {},
   "outputs": [],
   "source": [
    "######## Picamera Object Detection Using Tensorflow #########\n",
    "#\n",
    "# Author: Quang Khoi Tran\n",
    "# Date: 11/03/19\n",
    "# Description: \n",
    "# This program uses TensorFlow to perform object detection.\n",
    "# It loads the classifier uses it to perform object detection on a Picamera feed.\n",
    "# It draws boxes and scores around the objects of interest in each frame from\n",
    "# the Picamera. \n",
    "## Some of the code is copied from Google's example at\n",
    "## https://github.com/tensorflow/models/blob/master/research/object_detection/object_detection_tutorial.ipynb\n",
    "\n",
    "## and some is copied from Dat Tran's example at\n",
    "## https://github.com/datitran/object_detector_app/blob/master/object_detection_app.py\n"
   ]
  },
  {
   "cell_type": "code",
   "execution_count": 171,
   "metadata": {},
   "outputs": [],
   "source": [
    "# Import packages\n",
    "import os\n",
    "import cv2\n",
    "import numpy as np\n",
    "from picamera.array import PiRGBArray\n",
    "from picamera import PiCamera\n",
    "import tensorflow as tf\n",
    "import argparse\n",
    "import sys\n",
    "import time\n",
    "import psutil as sys_info "
   ]
  },
  {
   "cell_type": "code",
   "execution_count": 172,
   "metadata": {},
   "outputs": [],
   "source": [
    "# Set up images resolution\n",
    "IM_WIDTH = 1280\n",
    "IM_HEIGHT = 720\n",
    "#IM_WIDTH = 640    \n",
    "#IM_HEIGHT = 480   "
   ]
  },
  {
   "cell_type": "code",
   "execution_count": 173,
   "metadata": {},
   "outputs": [],
   "source": [
    "# Select camera type (trying feature: if user enters --webcam when calling this script,\n",
    "# a webcam will be used)\n",
    "camera_type = 'picamera'\n",
    "''' #testing feature to run program from terminal with --webcam\n",
    "parser = argparse.ArgumentParser()\n",
    "parser.add_argument('--usbcam', help='Use a USB webcam instead of picamera',\n",
    "                    action='store_true')\n",
    "args = parser.parse_args()\n",
    "if args.usbcam:\n",
    "    camera_type = 'webcam'\n",
    " '''\n",
    "#camera_type='webcam'\n",
    "# This is needed since the working directory is the object_detection folder.\n",
    "sys.path.append('..')"
   ]
  },
  {
   "cell_type": "code",
   "execution_count": 174,
   "metadata": {},
   "outputs": [],
   "source": [
    "# Import utilites\n",
    "from utils import label_map_util\n",
    "from utils import visualization_utils as vis_util"
   ]
  },
  {
   "cell_type": "code",
   "execution_count": 175,
   "metadata": {},
   "outputs": [],
   "source": [
    "# Name of the directory containing the object detection module we're using\n",
    "MODEL_NAME = 'ssdlite_mobilenet_v2_coco_2018_05_09'\n",
    "\n",
    "# Grab path to current working directory\n",
    "CWD_PATH = os.getcwd()\n",
    "\n",
    "# Path to frozen detection graph .pb file, which contains the model that is used\n",
    "# for object detection.\n",
    "PATH_TO_CKPT = os.path.join(CWD_PATH,MODEL_NAME,'frozen_inference_graph.pb')\n",
    "\n",
    "# Path to label map file\n",
    "PATH_TO_LABELS = os.path.join(CWD_PATH,'data','mscoco_label_map.pbtxt')\n",
    "\n",
    "# Number of classes the object detector can identify\n",
    "NUM_CLASSES = 90"
   ]
  },
  {
   "cell_type": "code",
   "execution_count": 176,
   "metadata": {},
   "outputs": [],
   "source": [
    "## Load the label map.\n",
    "# Label maps map indices to category names, so that when the convolution\n",
    "# network predicts `5`, we know that this corresponds to `aircraft`.\n",
    "# This code use internal utility functions, but anything that returns a\n",
    "# dictionary mapping integers to appropriate string labels would be fine\n",
    "label_map = label_map_util.load_labelmap(PATH_TO_LABELS)\n",
    "categories = label_map_util.convert_label_map_to_categories(label_map, max_num_classes=NUM_CLASSES, use_display_name=True)\n",
    "category_index = label_map_util.create_category_index(categories)\n",
    "\n",
    "# Load the Tensorflow model into memory.\n",
    "detection_graph = tf.Graph()\n",
    "with detection_graph.as_default():\n",
    "    od_graph_def = tf.GraphDef()\n",
    "    with tf.gfile.GFile(PATH_TO_CKPT, 'rb') as fid:\n",
    "        serialized_graph = fid.read()\n",
    "        od_graph_def.ParseFromString(serialized_graph)\n",
    "        tf.import_graph_def(od_graph_def, name='')\n",
    "\n",
    "    sess = tf.Session(graph=detection_graph)"
   ]
  },
  {
   "cell_type": "code",
   "execution_count": 177,
   "metadata": {},
   "outputs": [],
   "source": [
    "# Define input and output tensors (i.e. data) for the object detection classifier\n",
    "\n",
    "# Input tensor is the image\n",
    "image_tensor = detection_graph.get_tensor_by_name('image_tensor:0')\n",
    "\n",
    "# Output tensors are the detection boxes, scores, and classes\n",
    "# Each box represents a part of the image where a particular object was detected\n",
    "detection_boxes = detection_graph.get_tensor_by_name('detection_boxes:0')\n",
    "\n",
    "# Each score represents level of confidence for each of the objects.\n",
    "# The score is shown on the result image, together with the class label.\n",
    "detection_scores = detection_graph.get_tensor_by_name('detection_scores:0')\n",
    "detection_classes = detection_graph.get_tensor_by_name('detection_classes:0')\n",
    "\n",
    "# Number of objects detected\n",
    "num_detections = detection_graph.get_tensor_by_name('num_detections:0')"
   ]
  },
  {
   "cell_type": "code",
   "execution_count": 178,
   "metadata": {},
   "outputs": [],
   "source": [
    "\n",
    "# Initialize frame rate calculation\n",
    "frame_rate = 1\n",
    "freq = cv2.getTickFrequency()\n",
    "font = cv2.FONT_HERSHEY_SIMPLEX"
   ]
  },
  {
   "cell_type": "code",
   "execution_count": 179,
   "metadata": {},
   "outputs": [],
   "source": []
  },
  {
   "cell_type": "code",
   "execution_count": 180,
   "metadata": {},
   "outputs": [],
   "source": [
    "#Initialize time logging\n",
    "time_local = time.localtime() # get struct_time\n",
    "time_string = time.strftime(\"%m/%d/%Y, %H:%M:%S\", time_local)\n",
    "\n",
    "#Initialize cpu and memory using logging\n",
    "sys_info_cpu=sys_info.cpu_percent()\n",
    "sys_info_ram=sys_info.virtual_memory()[2] #2 = percent"
   ]
  },
  {
   "cell_type": "code",
   "execution_count": 181,
   "metadata": {
    "scrolled": true
   },
   "outputs": [],
   "source": [
    "# piCamera\n",
    "if camera_type == 'picamera':\n",
    "    # Initialize Picamera and grab reference to the raw capture\n",
    "    camera = PiCamera()\n",
    "    camera.resolution = (IM_WIDTH,IM_HEIGHT)\n",
    "    camera.framerate = 10\n",
    "    rawCapture = PiRGBArray(camera, size=(IM_WIDTH,IM_HEIGHT))\n",
    "    rawCapture.truncate(0)\n",
    "\n",
    "    #Initialize output video\n",
    "    # VideoWriter is the responsible of creating a copy of the video\n",
    "    # used for the detections but with the detections overlays. Keep in\n",
    "    # mind the frame size has to be the same as original video.\n",
    "    out = cv2.VideoWriter('object_detected_result_pi.avi', cv2.VideoWriter_fourcc(*'XVID'), 10, (IM_WIDTH, IM_HEIGHT))\n",
    "    #VideoWriter('name.avi,codec,FPS,(width,height)')\n",
    "    \n",
    "    for frame1 in camera.capture_continuous(rawCapture, format=\"bgr\",use_video_port=True):\n",
    "\n",
    "        t1 = cv2.getTickCount()\n",
    "        \n",
    "        # Acquire frame and expand frame dimensions to have shape: [1, None, None, 3]\n",
    "        # i.e. a single-column array, where each item in the column has the pixel RGB value\n",
    "        frame = np.copy(frame1.array)\n",
    "        frame.setflags(write=1)\n",
    "        frame_expanded = np.expand_dims(frame, axis=0)\n",
    "\n",
    "        # Perform the actual detection by running the model with the image as input\n",
    "        (boxes, scores, classes, num) = sess.run(\n",
    "            [detection_boxes, detection_scores, detection_classes, num_detections],\n",
    "            feed_dict={image_tensor: frame_expanded})\n",
    "\n",
    "        # Draw the results of the detection (aka 'visulaize the results')\n",
    "        vis_util.visualize_boxes_and_labels_on_image_array(\n",
    "            frame,\n",
    "            np.squeeze(boxes),\n",
    "            np.squeeze(classes).astype(np.int32),\n",
    "            np.squeeze(scores),\n",
    "            category_index,\n",
    "            use_normalized_coordinates=True,\n",
    "            line_thickness=8,\n",
    "            min_score_thresh=0.40)\n",
    "\n",
    "        cv2.putText(frame,\"FPS: {0:.2f}\".format(frame_rate),(30,50),font,1,(255,255,0),2,cv2.LINE_AA)\n",
    "        cv2.putText(frame,time_string,(250,50),font,1,(255,255,0),2,cv2.LINE_AA)\n",
    "        cv2.putText(frame,\"CPU: {0:.2f}\".format(sys_info_cpu),(750,50),font,1,(255,255,0),2,cv2.LINE_AA)\n",
    "        cv2.putText(frame,\"RAM: {0:.2f}\".format(sys_info_ram),(950,50),font,1,(255,255,0),2,cv2.LINE_AA)\n",
    "     \n",
    "\n",
    "        # All the results have been drawn on the frame, so it's time to display it.\n",
    "        cv2.imshow('Object detector', frame)\n",
    "        #write the result video\n",
    "        # https://www.learnopencv.com/why-does-opencv-use-bgr-color-format/\n",
    "        #color_frame = cv2.cvtColor(frame, cv2.COLOR_BGR2RGB)\n",
    "        #output_rgb = cv2.cvtColor(color_frame, cv2.COLOR_RGB2BGR)\n",
    "        out.write(frame)\n",
    "        \n",
    "        t2 = cv2.getTickCount()\n",
    "        time1 = (t2-t1)/freq\n",
    "        frame_rate = 1/time1 #update Frame rate\n",
    "        time_local = time.localtime() # update local time\n",
    "        time_string = time.strftime(\"%m/%d/%Y, %H:%M:%S\", time_local)\n",
    "        sys_info_cpu=sys_info.cpu_percent() #update cpu and ram using\n",
    "        sys_info_ram=sys_info.virtual_memory()[2]\n",
    "\n",
    "        # Press 'q' to quit\n",
    "        if cv2.waitKey(1) == ord('q'):\n",
    "            break\n",
    "\n",
    "        rawCapture.truncate(0)\n",
    "\n",
    "    out.realease()\n",
    "    camera.close()"
   ]
  },
  {
   "cell_type": "code",
   "execution_count": 182,
   "metadata": {},
   "outputs": [],
   "source": [
    "\n"
   ]
  },
  {
   "cell_type": "code",
   "execution_count": null,
   "metadata": {},
   "outputs": [],
   "source": []
  },
  {
   "cell_type": "code",
   "execution_count": null,
   "metadata": {},
   "outputs": [],
   "source": []
  }
 ],
 "metadata": {
  "celltoolbar": "Tags",
  "kernelspec": {
   "display_name": "Python 3",
   "language": "python",
   "name": "python3"
  },
  "language_info": {
   "codemirror_mode": {
    "name": "ipython",
    "version": 3
   },
   "file_extension": ".py",
   "mimetype": "text/x-python",
   "name": "python",
   "nbconvert_exporter": "python",
   "pygments_lexer": "ipython3",
   "version": "3.6.8"
  }
 },
 "nbformat": 4,
 "nbformat_minor": 2
}
